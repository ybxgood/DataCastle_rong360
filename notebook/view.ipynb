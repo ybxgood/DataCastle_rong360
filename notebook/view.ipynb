{
 "cells": [
  {
   "cell_type": "code",
   "execution_count": 13,
   "metadata": {
    "collapsed": false
   },
   "outputs": [
    {
     "name": "stdout",
     "output_type": "stream",
     "text": [
      "(55596, 5)\n",
      "(13899, 5)\n",
      "sex         0\n",
      "job         0\n",
      "edu         0\n",
      "marriage    0\n",
      "loc_type    0\n",
      "dtype: int64\n",
      "sex         0\n",
      "job         0\n",
      "edu         0\n",
      "marriage    0\n",
      "loc_type    0\n",
      "dtype: int64\n",
      "      sex  job  edu  marriage  loc_type\n",
      "id                                     \n",
      "3150    1    2    4         1         4\n",
      "6965    1    2    4         3         2\n",
      "1265    1    3    4         3         1\n",
      "6360    1    2    4         3         2\n",
      "2583    2    2    2         1         1\n",
      "       sex  job  edu  marriage  loc_type\n",
      "id                                      \n",
      "57189    1    2    4         3         2\n",
      "59778    1    2    3         1         4\n",
      "59779    1    2    4         1         2\n",
      "64690    1    2    4         2         1\n",
      "63295    1    2    3         2         2\n"
     ]
    }
   ],
   "source": [
    "import pandas as pd\n",
    "import numpy as np\n",
    "tr_addr = '../input/train_'\n",
    "te_addr  = '../input/test_'\n",
    "user_info_cols  = ['id', 'sex', 'job', 'edu', 'marriage', 'loc_type']\n",
    "user_info_train = pd.read_csv(tr_addr + 'user_info.csv', names = user_info_cols, index_col = 'id')\n",
    "user_info_test  = pd.read_csv(te_addr + 'user_info.csv', names = user_info_cols, index_col = 'id')\n",
    "print user_info_train.shape\n",
    "print user_info_test.shape\n",
    "print user_info_train.isnull().sum()\n",
    "print user_info_test.isnull().sum()\n",
    "print user_info_train.head()\n",
    "print user_info_test.head()\n",
    "del user_info_train,user_info_test"
   ]
  },
  {
   "cell_type": "code",
   "execution_count": 14,
   "metadata": {
    "collapsed": false
   },
   "outputs": [
    {
     "name": "stdout",
     "output_type": "stream",
     "text": [
      "getting loan_time...\n",
      "(55596, 1)\n",
      "(13899, 1)\n",
      "(69495, 1)\n",
      "loan_time    0\n",
      "dtype: int64\n",
      "loan_time    0\n",
      "dtype: int64\n"
     ]
    }
   ],
   "source": [
    "print 'getting loan_time...'\n",
    "loan_time_cols  = ['id', 'loan_time']\n",
    "loan_time_train = pd.read_csv(tr_addr + 'loan_time.csv', names = loan_time_cols, index_col = 'id')\n",
    "loan_time_test  = pd.read_csv(te_addr + 'loan_time.csv', names = loan_time_cols, index_col = 'id')\n",
    "loan_time = pd.concat([loan_time_train, loan_time_test])\n",
    "print loan_time_train.shape\n",
    "print loan_time_test.shape\n",
    "print loan_time.shape\n",
    "print loan_time_train.isnull().sum()\n",
    "print loan_time_test.isnull().sum()\n",
    "del loan_time_train,loan_time_test"
   ]
  },
  {
   "cell_type": "code",
   "execution_count": 17,
   "metadata": {
    "collapsed": false
   },
   "outputs": [
    {
     "name": "stdout",
     "output_type": "stream",
     "text": [
      "getting bank_detail...\n",
      "     id   tm_encode  trade_type  trade_amount  salary_tag\n",
      "0  6965  5894316387           0     13.756664           0\n",
      "1  6965  5894321388           1     13.756664           0\n",
      "2  6965  5897553564           0     14.449810           0\n",
      "3  6965  5897563463           1     10.527763           0\n",
      "4  6965  5897564598           1     13.651303           0\n",
      "      id   tm_encode  trade_type  trade_amount  salary_tag\n",
      "0  57189  5898958287           1     10.760951           0\n",
      "1  57189  5898958287           0     11.402795           0\n",
      "2  57189  5898958287           1      6.849967           0\n",
      "3  57189  5898958287           0      6.849967           0\n",
      "4  57189  5899995087           1     16.752395           0\n",
      "id              0\n",
      "tm_encode       0\n",
      "trade_type      0\n",
      "trade_amount    0\n",
      "salary_tag      0\n",
      "dtype: int64\n",
      "id              0\n",
      "tm_encode       0\n",
      "trade_type      0\n",
      "trade_amount    0\n",
      "salary_tag      0\n",
      "dtype: int64\n"
     ]
    }
   ],
   "source": [
    "print 'getting bank_detail...'\n",
    "bank_cols = ['id', 'tm_encode', 'trade_type', 'trade_amount', 'salary_tag']\n",
    "bank_detail_train = pd.read_csv(tr_addr + 'bank_detail.csv', names = bank_cols)\n",
    "bank_detail_test  = pd.read_csv(te_addr + 'bank_detail.csv', names = bank_cols)\n",
    "bank_detail = pd.concat([bank_detail_train, bank_detail_test])\n",
    "print bank_detail_train.head()\n",
    "print bank_detail_test.head()\n",
    "print bank_detail_train.isnull().sum()\n",
    "print bank_detail_test.isnull().sum()"
   ]
  },
  {
   "cell_type": "code",
   "execution_count": 21,
   "metadata": {
    "collapsed": false
   },
   "outputs": [
    {
     "name": "stdout",
     "output_type": "stream",
     "text": [
      "getting browse_history...\n",
      "    action\n",
      "id        \n",
      "2   151500\n",
      "3    38586\n",
      "4    38764\n",
      "6     1650\n",
      "7   112420\n",
      "(59327, 1)\n",
      "action    0\n",
      "dtype: int64\n"
     ]
    }
   ],
   "source": [
    "print 'getting browse_history...'\n",
    "browse_cols  = ['id', 'time', 'action', 'ac_index']\n",
    "browse_train = pd.read_csv(tr_addr + 'browse_history.csv', names = browse_cols)\n",
    "browse_test  = pd.read_csv(te_addr + 'browse_history.csv', names = browse_cols)\n",
    "browse = pd.concat([browse_train, browse_test])\n",
    "browse = browse[['id','action']].groupby(['id']).sum()\n",
    "print browse.head()\n",
    "print browse.shape\n",
    "print browse.isnull().sum()\n",
    "del browse_train ,browse_test, browse"
   ]
  },
  {
   "cell_type": "code",
   "execution_count": 22,
   "metadata": {
    "collapsed": false
   },
   "outputs": [
    {
     "name": "stdout",
     "output_type": "stream",
     "text": [
      "getting bill_detail...\n",
      "(53174, 13)\n",
      "tm_encode_3            0\n",
      "prior_account          0\n",
      "prior_repay            0\n",
      "credit_limit           0\n",
      "account_balance        0\n",
      "minimun_repay          0\n",
      "consume_count          0\n",
      "account                0\n",
      "adjust_account         0\n",
      "circulated_interest    0\n",
      "avaliable_balance      0\n",
      "cash_limit             0\n",
      "repay_state            0\n",
      "dtype: int64\n"
     ]
    }
   ],
   "source": [
    "print 'getting bill_detail...'\n",
    "bill_detail_cols = ['id', 'tm_encode_3', 'bank_id', 'prior_account', 'prior_repay','credit_limit',\n",
    "                    'account_balance', 'minimun_repay', 'consume_count','account', 'adjust_account',\n",
    "                    'circulated_interest', 'avaliable_balance','cash_limit', 'repay_state']\n",
    "bill_train = pd.read_csv(tr_addr + 'bill_detail.csv', names=bill_detail_cols)\n",
    "bill_test  = pd.read_csv(tr_addr + 'bill_detail.csv', names=bill_detail_cols)\n",
    "bill_detail = pd.concat([bill_train, bill_test])\n",
    "bill_detail = bill_detail.groupby(['id']).mean()\n",
    "bill_detail.drop(['bank_id'], axis=1, inplace=True)\n",
    "print bill_detail.shape\n",
    "print bill_detail.isnull().sum()\n",
    "del bill_train,bill_test,bill_detail"
   ]
  },
  {
   "cell_type": "code",
   "execution_count": null,
   "metadata": {
    "collapsed": true
   },
   "outputs": [],
   "source": []
  }
 ],
 "metadata": {
  "kernelspec": {
   "display_name": "Python 2",
   "language": "python",
   "name": "python2"
  },
  "language_info": {
   "codemirror_mode": {
    "name": "ipython",
    "version": 2
   },
   "file_extension": ".py",
   "mimetype": "text/x-python",
   "name": "python",
   "nbconvert_exporter": "python",
   "pygments_lexer": "ipython2",
   "version": "2.7.12"
  }
 },
 "nbformat": 4,
 "nbformat_minor": 1
}
