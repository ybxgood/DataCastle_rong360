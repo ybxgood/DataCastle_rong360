{
 "cells": [
  {
   "cell_type": "code",
   "execution_count": 9,
   "metadata": {
    "collapsed": false
   },
   "outputs": [
    {
     "name": "stdout",
     "output_type": "stream",
     "text": [
      "Populating the interactive namespace from numpy and matplotlib\n",
      "(13899, 7)\n",
      "13899\n",
      "(376409, 5)\n",
      "709\n"
     ]
    }
   ],
   "source": [
    "import pandas as pd\n",
    "import numpy as np\n",
    "import seaborn as sns\n",
    "import matplotlib.pyplot as plt\n",
    "%pylab inline\n",
    "tr_addr = '../input/pre/train_'\n",
    "te_addr = '../input/pre/test_'\n",
    "user_info_test  = pd.read_csv(te_addr + 'user_info.csv')\n",
    "print user_info_test.shape\n",
    "print len(user_info_test['id'].unique())\n",
    "bank_test  = pd.read_csv(te_addr + 'bank_detail.csv')\n",
    "print bank_test.shape\n",
    "print len(bank_test['id'].unique())"
   ]
  },
  {
   "cell_type": "code",
   "execution_count": 16,
   "metadata": {
    "collapsed": false
   },
   "outputs": [
    {
     "name": "stdout",
     "output_type": "stream",
     "text": [
      "2\n"
     ]
    }
   ],
   "source": [
    "bill_train  = pd.read_csv(te_addr + 'bill_detail.csv')\n",
    "# print len(bill_train['id'].unique())\n",
    "# print len(bill_train)\n",
    "print len(bill_train['repay_state'].unique())"
   ]
  },
  {
   "cell_type": "code",
   "execution_count": 6,
   "metadata": {
    "collapsed": false
   },
   "outputs": [
    {
     "name": "stdout",
     "output_type": "stream",
     "text": [
      "Index([u'id', u'sex', u'job', u'edu', u'marriage', u'loc_type', u'loan_time'], dtype='object')\n",
      "Empty DataFrame\n",
      "Columns: [id, sex, job, edu, marriage, loc_type, loan_time]\n",
      "Index: []\n"
     ]
    }
   ],
   "source": [
    "browse_test  = pd.read_csv(te_addr + 'user_info.csv')\n",
    "print browse_test.columns\n",
    "browse_test = browse_test[browse_test['loan_time'] == 0]\n",
    "print browse_test"
   ]
  },
  {
   "cell_type": "code",
   "execution_count": 7,
   "metadata": {
    "collapsed": false
   },
   "outputs": [
    {
     "name": "stdout",
     "output_type": "stream",
     "text": [
      "(55596, 7)\n",
      "(6070197, 5)\n",
      "9294\n"
     ]
    }
   ],
   "source": [
    "user_info_train  = pd.read_csv(tr_addr + 'user_info.csv')\n",
    "print user_info_train.shape\n",
    "bank_test  = pd.read_csv(tr_addr + 'bank_detail.csv')\n",
    "print bank_test.shape\n",
    "print len(bank_test['id'].unique())"
   ]
  },
  {
   "cell_type": "code",
   "execution_count": 13,
   "metadata": {
    "collapsed": false
   },
   "outputs": [
    {
     "name": "stdout",
     "output_type": "stream",
     "text": [
      "(2338118, 15)\n",
      "53174\n",
      "(22919547, 4)\n",
      "47330\n"
     ]
    }
   ],
   "source": [
    "bill_test  = pd.read_csv(tr_addr + 'bill_detail.csv')\n",
    "print bill_test.shape\n",
    "print len(bill_test['id'].unique())\n",
    "browse_test  = pd.read_csv(tr_addr + 'browse_history.csv')\n",
    "print browse_test.shape\n",
    "print len(browse_test['id'].unique())"
   ]
  },
  {
   "cell_type": "code",
   "execution_count": 8,
   "metadata": {
    "collapsed": false
   },
   "outputs": [
    {
     "name": "stdout",
     "output_type": "stream",
     "text": [
      "1     10770232\n",
      "4      3445594\n",
      "7      2384705\n",
      "5      1980083\n",
      "6      1774877\n",
      "10     1586227\n",
      "8       778282\n",
      "3       184849\n",
      "9        12546\n",
      "11        1306\n",
      "2          846\n",
      "Name: ac_index, dtype: int64\n"
     ]
    }
   ],
   "source": [
    "browse_test  = pd.read_csv(tr_addr + 'browse_history.csv')\n",
    "print browse_test['ac_index'].value_counts()\n"
   ]
  },
  {
   "cell_type": "code",
   "execution_count": null,
   "metadata": {
    "collapsed": true
   },
   "outputs": [],
   "source": []
  }
 ],
 "metadata": {
  "kernelspec": {
   "display_name": "Python 2",
   "language": "python",
   "name": "python2"
  },
  "language_info": {
   "codemirror_mode": {
    "name": "ipython",
    "version": 2
   },
   "file_extension": ".py",
   "mimetype": "text/x-python",
   "name": "python",
   "nbconvert_exporter": "python",
   "pygments_lexer": "ipython2",
   "version": "2.7.12"
  }
 },
 "nbformat": 4,
 "nbformat_minor": 1
}
