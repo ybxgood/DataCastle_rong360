{
 "cells": [
  {
   "cell_type": "code",
   "execution_count": 1,
   "metadata": {
    "collapsed": false
   },
   "outputs": [
    {
     "name": "stdout",
     "output_type": "stream",
     "text": [
      "Populating the interactive namespace from numpy and matplotlib\n",
      "getting user_info...\n",
      "   id   loan_time  sex  job  edu  marriage  loc_type\n",
      "0   1  5914855887    1    2    3         1         3\n",
      "1   2  5914855887    1    2    3         2         1\n",
      "2   3  5914855887    1    4    4         1         4\n",
      "3   4  5914855887    1    4    4         3         2\n",
      "4   5  5914855887    1    2    2         3         1\n"
     ]
    }
   ],
   "source": [
    "import pandas as pd\n",
    "import numpy as np\n",
    "import seaborn as sns\n",
    "import matplotlib.pyplot as plt\n",
    "%pylab inline\n",
    "tr_addr = '../input/pre/train_'\n",
    "te_addr = '../input/pre/test_'\n",
    "print 'getting user_info...'\n",
    "user_info_train = pd.read_csv(tr_addr + 'user_info.csv')\n",
    "user_info_test  = pd.read_csv(te_addr + 'user_info.csv')\n",
    "user_info = pd.concat([user_info_train, user_info_test])\n",
    "del user_info_train, user_info_test\n",
    "print user_info.head()"
   ]
  },
  {
   "cell_type": "code",
   "execution_count": 19,
   "metadata": {
    "collapsed": false
   },
   "outputs": [
    {
     "name": "stdout",
     "output_type": "stream",
     "text": [
      "getting bill_detail...\n",
      "471009\n"
     ]
    },
    {
     "name": "stderr",
     "output_type": "stream",
     "text": [
      "D:\\Program\\Anaconda2\\lib\\site-packages\\ipykernel\\__main__.py:11: UserWarning: Boolean Series key will be reindexed to match DataFrame index.\n"
     ]
    },
    {
     "data": {
      "text/plain": [
       "(array([  6.26030000e+04,   5.19880000e+04,   4.95820000e+04,\n",
       "          4.00400000e+04,   3.55570000e+04,   3.52410000e+04,\n",
       "          2.58500000e+04,   2.31960000e+04,   2.01200000e+04,\n",
       "          1.47370000e+04,   1.37820000e+04,   9.35900000e+03,\n",
       "          7.84800000e+03,   5.10400000e+03,   4.64900000e+03,\n",
       "          3.28100000e+03,   3.01600000e+03,   2.11000000e+03,\n",
       "          1.50800000e+03,   1.07700000e+03,   9.95000000e+02,\n",
       "          7.56000000e+02,   5.73000000e+02,   5.53000000e+02,\n",
       "          3.83000000e+02,   1.82000000e+02,   2.70000000e+02,\n",
       "          8.00000000e+00,   0.00000000e+00,   1.30000000e+01]),\n",
       " array([  6.94444444e-07,   1.03865486e-02,   2.07724028e-02,\n",
       "          3.11582569e-02,   4.15441111e-02,   5.19299653e-02,\n",
       "          6.23158194e-02,   7.27016736e-02,   8.30875278e-02,\n",
       "          9.34733819e-02,   1.03859236e-01,   1.14245090e-01,\n",
       "          1.24630944e-01,   1.35016799e-01,   1.45402653e-01,\n",
       "          1.55788507e-01,   1.66174361e-01,   1.76560215e-01,\n",
       "          1.86946069e-01,   1.97331924e-01,   2.07717778e-01,\n",
       "          2.18103632e-01,   2.28489486e-01,   2.38875340e-01,\n",
       "          2.49261194e-01,   2.59647049e-01,   2.70032903e-01,\n",
       "          2.80418757e-01,   2.90804611e-01,   3.01190465e-01,\n",
       "          3.11576319e-01]),\n",
       " <a list of 30 Patch objects>)"
      ]
     },
     "execution_count": 19,
     "metadata": {},
     "output_type": "execute_result"
    },
    {
     "data": {
      "image/png": "[encoded data removed]",
      "text/plain": [
       "<matplotlib.figure.Figure at 0x15be37b8>"
      ]
     },
     "metadata": {},
     "output_type": "display_data"
    }
   ],
   "source": [
    "print 'getting bill_detail...'\n",
    "bill_train = pd.read_csv(tr_addr + 'bill_detail.csv')\n",
    "bill_test  = pd.read_csv(te_addr + 'bill_detail.csv')\n",
    "bill = pd.concat([bill_train, bill_test])\n",
    "bill = bill.merge(user_info[['id', 'loan_time']], on=['id'], how='left')\n",
    "print len(bill[bill['tm_encode_3'] == 0])\n",
    "\n",
    "bill['tm_encode_3'] = (bill['tm_encode_3'] - bill['loan_time'])/(3600*24*1000)\n",
    "\n",
    "bill1 = bill[bill['tm_encode_3'] < 0]\n",
    "bill1 = bill1[bill['tm_encode_3'] > -5]\n",
    "bill2 = bill[bill['tm_encode_3'] > 0]\n",
    "\n",
    "fig, axes = plt.subplots(2,1)\n",
    "axes[0].hist(-bill1['tm_encode_3'],bins = 30, color = 'b')  \n",
    "axes[1].hist(bill2['tm_encode_3'],bins = 30, color = 'r') "
   ]
  },
  {
   "cell_type": "code",
   "execution_count": null,
   "metadata": {
    "collapsed": true
   },
   "outputs": [],
   "source": [
    "user_info_train = pd.read_csv(tr_addr + 'user_info.csv')\n",
    "bill_train = pd.read_csv(tr_addr + 'bill_detail.csv')\n",
    "bill_cols = ['tm_encode_3','prior_account', 'prior_repay','credit_limit','current_balance', 'minimun_repay',\n",
    "             'consume_count','account', 'adjust_account','cycle_interest', 'avaliable_balance',\n",
    "             'cash_limit', 'repay_state']\n",
    "group_feats = bill_train[bill_cols].groupby(bill_train['id']).mean()\n",
    "data = user_info_train.merge(group_feats, left_on = 'id', right_index = True,how = 'left')\n",
    "\n",
    "data = data.merge()\n",
    "data = data.corr()  \n",
    "sns.heatmap(data) "
   ]
  }
 ],
 "metadata": {
  "kernelspec": {
   "display_name": "Python 2",
   "language": "python",
   "name": "python2"
  },
  "language_info": {
   "codemirror_mode": {
    "name": "ipython",
    "version": 2
   },
   "file_extension": ".py",
   "mimetype": "text/x-python",
   "name": "python",
   "nbconvert_exporter": "python",
   "pygments_lexer": "ipython2",
   "version": "2.7.12"
  }
 },
 "nbformat": 4,
 "nbformat_minor": 1
}
